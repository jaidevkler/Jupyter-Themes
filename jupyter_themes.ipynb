{
 "cells": [
  {
   "cell_type": "code",
   "execution_count": null,
   "id": "065043a2",
   "metadata": {},
   "outputs": [],
   "source": [
    "# Install \n",
    "pip install jupyterthemes"
   ]
  },
  {
   "cell_type": "code",
   "execution_count": null,
   "id": "0ea47c7e",
   "metadata": {},
   "outputs": [],
   "source": [
    "# List of themes available\n",
    "!jt -l"
   ]
  },
  {
   "cell_type": "code",
   "execution_count": null,
   "id": "0a3e9ab5",
   "metadata": {},
   "outputs": [],
   "source": [
    "# Dark theme I chose\n",
    "!jt -t oceans16"
   ]
  },
  {
   "cell_type": "code",
   "execution_count": null,
   "id": "f1ad764e",
   "metadata": {},
   "outputs": [],
   "source": [
    "# You should see the changes once you restart jupyter notebook"
   ]
  }
 ],
 "metadata": {
  "kernelspec": {
   "display_name": "Python 3 (ipykernel)",
   "language": "python",
   "name": "python3"
  },
  "language_info": {
   "codemirror_mode": {
    "name": "ipython",
    "version": 3
   },
   "file_extension": ".py",
   "mimetype": "text/x-python",
   "name": "python",
   "nbconvert_exporter": "python",
   "pygments_lexer": "ipython3",
   "version": "3.11.5"
  }
 },
 "nbformat": 4,
 "nbformat_minor": 5
}
